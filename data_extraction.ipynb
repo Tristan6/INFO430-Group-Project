{
 "cells": [
  {
   "cell_type": "code",
   "execution_count": 2,
   "metadata": {},
   "outputs": [],
   "source": [
    "import pandas as pd\n",
    "import numpy as np\n",
    "\n",
    "# for database connection\n",
    "import pyodbc\n",
    "\n",
    "from random import randint"
   ]
  },
  {
   "cell_type": "code",
   "execution_count": 3,
   "metadata": {},
   "outputs": [],
   "source": [
    "data = pd.read_csv('entropy_data.csv')"
   ]
  },
  {
   "cell_type": "code",
   "execution_count": 4,
   "metadata": {},
   "outputs": [
    {
     "data": {
      "text/plain": [
       "(6, 29)"
      ]
     },
     "execution_count": 4,
     "metadata": {},
     "output_type": "execute_result"
    }
   ],
   "source": [
    "data.shape"
   ]
  },
  {
   "cell_type": "code",
   "execution_count": null,
   "metadata": {},
   "outputs": [],
   "source": []
  },
  {
   "cell_type": "code",
   "execution_count": 34,
   "metadata": {
    "scrolled": true
   },
   "outputs": [
    {
     "data": {
      "text/html": [
       "<div>\n",
       "<style scoped>\n",
       "    .dataframe tbody tr th:only-of-type {\n",
       "        vertical-align: middle;\n",
       "    }\n",
       "\n",
       "    .dataframe tbody tr th {\n",
       "        vertical-align: top;\n",
       "    }\n",
       "\n",
       "    .dataframe thead th {\n",
       "        text-align: right;\n",
       "    }\n",
       "</style>\n",
       "<table border=\"1\" class=\"dataframe\">\n",
       "  <thead>\n",
       "    <tr style=\"text-align: right;\">\n",
       "      <th></th>\n",
       "      <th>Timestamp</th>\n",
       "      <th>Email address</th>\n",
       "      <th>What is your gender?</th>\n",
       "      <th>What is your age?</th>\n",
       "      <th>What is your highest level of education?</th>\n",
       "      <th>What is the size of your household (enter the number of people living in your residence/home)?</th>\n",
       "      <th>What is the name of the item you are storing?</th>\n",
       "      <th>What is the name of the house you are storing this item in? (i.e. My apartment, Family house, or it can be an informal name like Georgetown)</th>\n",
       "      <th>What room are you storing the item in? (i.e. bathroom, living room, bedroom 1, etc.)</th>\n",
       "      <th>Which quadrant of the room is this item placed in? (see the image above for reference). The arrow shows the direction you are facing when you enter the room.</th>\n",
       "      <th>...</th>\n",
       "      <th>What is the name of the house are you storing this item in? (i.e. My apartment, Family house, or it can be an informal name like Georgetown).1</th>\n",
       "      <th>What room are you storing the item in? (i.e. bathroom, living room, bedroom 1, etc.).2</th>\n",
       "      <th>Which quadrant of the room is this item placed in? (see the image above for reference). The arrow shows the direction you are facing when you enter the room..2</th>\n",
       "      <th>If you would like to enter in a more personalized location description for this item, enter that here (i.e. I left my book on the second shelf of my nightstand next to my bed):.2</th>\n",
       "      <th>Would you like to enter in another item?.2</th>\n",
       "      <th>What is the name of the item you are storing?.3</th>\n",
       "      <th>What is the name of the house are you storing this item in? (i.e. My apartment, Family house, or it can be an informal name like Georgetown).2</th>\n",
       "      <th>What room are you storing the item in? (i.e. bathroom, living room, bedroom 1, etc.).3</th>\n",
       "      <th>Which quadrant of the room is this item placed in? (see the image above for reference). The arrow shows the direction you are facing when you enter the room..3</th>\n",
       "      <th>If you would like to enter in a more personalized location description for this item, enter that here (i.e. I left my book on the second shelf of my nightstand next to my bed):.3</th>\n",
       "    </tr>\n",
       "  </thead>\n",
       "  <tbody>\n",
       "    <tr>\n",
       "      <th>0</th>\n",
       "      <td>2019/11/17 4:26:47 PM PST</td>\n",
       "      <td>navjanar@gmail.com</td>\n",
       "      <td>Male</td>\n",
       "      <td>20-30</td>\n",
       "      <td>High school</td>\n",
       "      <td>2</td>\n",
       "      <td>water bottle</td>\n",
       "      <td>Boston</td>\n",
       "      <td>bedroom 1</td>\n",
       "      <td>3</td>\n",
       "      <td>...</td>\n",
       "      <td>NaN</td>\n",
       "      <td>NaN</td>\n",
       "      <td>NaN</td>\n",
       "      <td>NaN</td>\n",
       "      <td>NaN</td>\n",
       "      <td>NaN</td>\n",
       "      <td>NaN</td>\n",
       "      <td>NaN</td>\n",
       "      <td>NaN</td>\n",
       "      <td>NaN</td>\n",
       "    </tr>\n",
       "    <tr>\n",
       "      <th>1</th>\n",
       "      <td>2019/11/17 4:29:44 PM PST</td>\n",
       "      <td>NaN</td>\n",
       "      <td>Female</td>\n",
       "      <td>20-30</td>\n",
       "      <td>High school</td>\n",
       "      <td>2</td>\n",
       "      <td>earring</td>\n",
       "      <td>my apartment</td>\n",
       "      <td>bedroom</td>\n",
       "      <td>1</td>\n",
       "      <td>...</td>\n",
       "      <td>my apartment</td>\n",
       "      <td>bedroom</td>\n",
       "      <td>2.0</td>\n",
       "      <td>next to the desk</td>\n",
       "      <td>No</td>\n",
       "      <td>NaN</td>\n",
       "      <td>NaN</td>\n",
       "      <td>NaN</td>\n",
       "      <td>NaN</td>\n",
       "      <td>NaN</td>\n",
       "    </tr>\n",
       "    <tr>\n",
       "      <th>2</th>\n",
       "      <td>2019/11/17 4:30:57 PM PST</td>\n",
       "      <td>tmacelli@uw.edu</td>\n",
       "      <td>Male</td>\n",
       "      <td>20-30</td>\n",
       "      <td>2 or 4 Year College</td>\n",
       "      <td>12</td>\n",
       "      <td>pen</td>\n",
       "      <td>landis</td>\n",
       "      <td>bedroom</td>\n",
       "      <td>3</td>\n",
       "      <td>...</td>\n",
       "      <td>NaN</td>\n",
       "      <td>NaN</td>\n",
       "      <td>NaN</td>\n",
       "      <td>NaN</td>\n",
       "      <td>NaN</td>\n",
       "      <td>NaN</td>\n",
       "      <td>NaN</td>\n",
       "      <td>NaN</td>\n",
       "      <td>NaN</td>\n",
       "      <td>NaN</td>\n",
       "    </tr>\n",
       "    <tr>\n",
       "      <th>3</th>\n",
       "      <td>2019/11/18 10:24:28 AM PST</td>\n",
       "      <td>Kylemcnulty@gmail.com</td>\n",
       "      <td>Male</td>\n",
       "      <td>20-30</td>\n",
       "      <td>2 or 4 Year College</td>\n",
       "      <td>3</td>\n",
       "      <td>Remote</td>\n",
       "      <td>Home</td>\n",
       "      <td>Living room</td>\n",
       "      <td>3</td>\n",
       "      <td>...</td>\n",
       "      <td>NaN</td>\n",
       "      <td>NaN</td>\n",
       "      <td>NaN</td>\n",
       "      <td>NaN</td>\n",
       "      <td>NaN</td>\n",
       "      <td>NaN</td>\n",
       "      <td>NaN</td>\n",
       "      <td>NaN</td>\n",
       "      <td>NaN</td>\n",
       "      <td>NaN</td>\n",
       "    </tr>\n",
       "    <tr>\n",
       "      <th>4</th>\n",
       "      <td>2019/11/19 7:36:43 PM PST</td>\n",
       "      <td>kathylt@uw.edu</td>\n",
       "      <td>Female</td>\n",
       "      <td>0-20</td>\n",
       "      <td>2 or 4 Year College</td>\n",
       "      <td>2</td>\n",
       "      <td>Retainer</td>\n",
       "      <td>My apartment</td>\n",
       "      <td>bathroom</td>\n",
       "      <td>1</td>\n",
       "      <td>...</td>\n",
       "      <td>My apartment</td>\n",
       "      <td>Kitchen/Dining room</td>\n",
       "      <td>3.0</td>\n",
       "      <td>On the kitchen island</td>\n",
       "      <td>No</td>\n",
       "      <td>NaN</td>\n",
       "      <td>NaN</td>\n",
       "      <td>NaN</td>\n",
       "      <td>NaN</td>\n",
       "      <td>NaN</td>\n",
       "    </tr>\n",
       "  </tbody>\n",
       "</table>\n",
       "<p>5 rows × 29 columns</p>\n",
       "</div>"
      ],
      "text/plain": [
       "                    Timestamp          Email address What is your gender?  \\\n",
       "0   2019/11/17 4:26:47 PM PST     navjanar@gmail.com                 Male   \n",
       "1   2019/11/17 4:29:44 PM PST                    NaN               Female   \n",
       "2   2019/11/17 4:30:57 PM PST        tmacelli@uw.edu                 Male   \n",
       "3  2019/11/18 10:24:28 AM PST  Kylemcnulty@gmail.com                 Male   \n",
       "4   2019/11/19 7:36:43 PM PST         kathylt@uw.edu               Female   \n",
       "\n",
       "  What is your age? What is your highest level of education?  \\\n",
       "0             20-30                              High school   \n",
       "1             20-30                              High school   \n",
       "2             20-30                      2 or 4 Year College   \n",
       "3             20-30                      2 or 4 Year College   \n",
       "4              0-20                      2 or 4 Year College   \n",
       "\n",
       "   What is the size of your household (enter the number of people living in your residence/home)?  \\\n",
       "0                                                  2                                                \n",
       "1                                                  2                                                \n",
       "2                                                 12                                                \n",
       "3                                                  3                                                \n",
       "4                                                  2                                                \n",
       "\n",
       "  What is the name of the item you are storing?  \\\n",
       "0                                  water bottle   \n",
       "1                                       earring   \n",
       "2                                           pen   \n",
       "3                                        Remote   \n",
       "4                                      Retainer   \n",
       "\n",
       "  What is the name of the house you are storing this item in? (i.e. My apartment, Family house, or it can be an informal name like Georgetown)  \\\n",
       "0                                             Boston                                                                                             \n",
       "1                                       my apartment                                                                                             \n",
       "2                                             landis                                                                                             \n",
       "3                                               Home                                                                                             \n",
       "4                                       My apartment                                                                                             \n",
       "\n",
       "  What room are you storing the item in? (i.e. bathroom, living room, bedroom 1, etc.)  \\\n",
       "0                                          bedroom 1                                     \n",
       "1                                            bedroom                                     \n",
       "2                                            bedroom                                     \n",
       "3                                        Living room                                     \n",
       "4                                           bathroom                                     \n",
       "\n",
       "   Which quadrant of the room is this item placed in? (see the image above for reference). The arrow shows the direction you are facing when you enter the room.  \\\n",
       "0                                                  3                                                                                                               \n",
       "1                                                  1                                                                                                               \n",
       "2                                                  3                                                                                                               \n",
       "3                                                  3                                                                                                               \n",
       "4                                                  1                                                                                                               \n",
       "\n",
       "                                                                                         ...                                                                                          \\\n",
       "0                                                                                        ...                                                                                           \n",
       "1                                                                                        ...                                                                                           \n",
       "2                                                                                        ...                                                                                           \n",
       "3                                                                                        ...                                                                                           \n",
       "4                                                                                        ...                                                                                           \n",
       "\n",
       "  What is the name of the house are you storing this item in? (i.e. My apartment, Family house, or it can be an informal name like Georgetown).1  \\\n",
       "0                                                NaN                                                                                               \n",
       "1                                       my apartment                                                                                               \n",
       "2                                                NaN                                                                                               \n",
       "3                                                NaN                                                                                               \n",
       "4                                       My apartment                                                                                               \n",
       "\n",
       "  What room are you storing the item in? (i.e. bathroom, living room, bedroom 1, etc.).2  \\\n",
       "0                                                NaN                                       \n",
       "1                                            bedroom                                       \n",
       "2                                                NaN                                       \n",
       "3                                                NaN                                       \n",
       "4                                Kitchen/Dining room                                       \n",
       "\n",
       "  Which quadrant of the room is this item placed in? (see the image above for reference). The arrow shows the direction you are facing when you enter the room..2  \\\n",
       "0                                                NaN                                                                                                                \n",
       "1                                                2.0                                                                                                                \n",
       "2                                                NaN                                                                                                                \n",
       "3                                                NaN                                                                                                                \n",
       "4                                                3.0                                                                                                                \n",
       "\n",
       "  If you would like to enter in a more personalized location description for this item, enter that here (i.e. I left my book on the second shelf of my nightstand next to my bed):.2  \\\n",
       "0                                                NaN                                                                                                                                   \n",
       "1                                   next to the desk                                                                                                                                   \n",
       "2                                                NaN                                                                                                                                   \n",
       "3                                                NaN                                                                                                                                   \n",
       "4                              On the kitchen island                                                                                                                                   \n",
       "\n",
       "  Would you like to enter in another item?.2  \\\n",
       "0                                        NaN   \n",
       "1                                         No   \n",
       "2                                        NaN   \n",
       "3                                        NaN   \n",
       "4                                         No   \n",
       "\n",
       "   What is the name of the item you are storing?.3  \\\n",
       "0                                              NaN   \n",
       "1                                              NaN   \n",
       "2                                              NaN   \n",
       "3                                              NaN   \n",
       "4                                              NaN   \n",
       "\n",
       "  What is the name of the house are you storing this item in? (i.e. My apartment, Family house, or it can be an informal name like Georgetown).2  \\\n",
       "0                                                NaN                                                                                               \n",
       "1                                                NaN                                                                                               \n",
       "2                                                NaN                                                                                               \n",
       "3                                                NaN                                                                                               \n",
       "4                                                NaN                                                                                               \n",
       "\n",
       "  What room are you storing the item in? (i.e. bathroom, living room, bedroom 1, etc.).3  \\\n",
       "0                                                NaN                                       \n",
       "1                                                NaN                                       \n",
       "2                                                NaN                                       \n",
       "3                                                NaN                                       \n",
       "4                                                NaN                                       \n",
       "\n",
       "  Which quadrant of the room is this item placed in? (see the image above for reference). The arrow shows the direction you are facing when you enter the room..3  \\\n",
       "0                                                NaN                                                                                                                \n",
       "1                                                NaN                                                                                                                \n",
       "2                                                NaN                                                                                                                \n",
       "3                                                NaN                                                                                                                \n",
       "4                                                NaN                                                                                                                \n",
       "\n",
       "  If you would like to enter in a more personalized location description for this item, enter that here (i.e. I left my book on the second shelf of my nightstand next to my bed):.3  \n",
       "0                                                NaN                                                                                                                                  \n",
       "1                                                NaN                                                                                                                                  \n",
       "2                                                NaN                                                                                                                                  \n",
       "3                                                NaN                                                                                                                                  \n",
       "4                                                NaN                                                                                                                                  \n",
       "\n",
       "[5 rows x 29 columns]"
      ]
     },
     "execution_count": 34,
     "metadata": {},
     "output_type": "execute_result"
    }
   ],
   "source": [
    "data.head(5)"
   ]
  },
  {
   "cell_type": "code",
   "execution_count": 35,
   "metadata": {},
   "outputs": [
    {
     "data": {
      "text/plain": [
       "' \\ntime = Timestamp\\nemail = Email address\\ngender = What is your gender?\\nage = What is your age?\\nedu = What is your highest level of education?\\nhousehold_size = What is the size of your household (enter the number of people living in your residence/home)?\\n\\nr1_item = What is the name of the item you are storing?\\nr1_name_of_house = What is the name of the house you are storing this item in? (i.e. My apartment, \\n    Family house, or it can be an informal name like Georgetown)\\nr1_room = What room are you storing the item in? (i.e. bathroom, living room, bedroom 1, etc.)\\nr1_quad_of_room = Which quadrant of the room is this item placed in? (see the image above for reference). \\n    The arrow shows the direction you are facing when you enter the room.\\nr1_loc_desc = If you would like to enter in a more personalized location description for this item, \\n    enter that here (i.e. I left my book on the second shelf of my nightstand next to my bed):\\n    \\nr2_item = What is the name of the item you are storing?\\nr2_name_of_house = What is the name of the house you are storing this item in? (i.e. My apartment, \\n    Family house, or it can be an informal name like Georgetown)\\nr2_room = What room are you storing the item in? (i.e. bathroom, living room, bedroom 1, etc.)\\nr2_quad_of_room = Which quadrant of the room is this item placed in? (see the image above for reference). \\n    The arrow shows the direction you are facing when you enter the room.\\nr2_loc_desc = If you would like to enter in a more personalized location description for this item, \\n    enter that here (i.e. I left my book on the second shelf of my nightstand next to my bed):\\n\\nr3_item = What is the name of the item you are storing?\\nr3_name_of_house = What is the name of the house you are storing this item in? (i.e. My apartment, \\n    Family house, or it can be an informal name like Georgetown)\\nr3_room = What room are you storing the item in? (i.e. bathroom, living room, bedroom 1, etc.)\\nr3_quad_of_room = Which quadrant of the room is this item placed in? (see the image above for reference). \\n    The arrow shows the direction you are facing when you enter the room.\\nr3_loc_desc = If you would like to enter in a more personalized location description for this item, \\n    enter that here (i.e. I left my book on the second shelf of my nightstand next to my bed):\\n    \\nr4_item = What is the name of the item you are storing?\\nr4_name_of_house = What is the name of the house you are storing this item in? (i.e. My apartment, \\n    Family house, or it can be an informal name like Georgetown)\\nr4_room = What room are you storing the item in? (i.e. bathroom, living room, bedroom 1, etc.)\\nr4_quad_of_room = Which quadrant of the room is this item placed in? (see the image above for reference). \\n    The arrow shows the direction you are facing when you enter the room.\\nr4_loc_desc = If you would like to enter in a more personalized location description for this item, \\n    enter that here (i.e. I left my book on the second shelf of my nightstand next to my bed):\\n'"
      ]
     },
     "execution_count": 35,
     "metadata": {},
     "output_type": "execute_result"
    }
   ],
   "source": [
    "\"\"\" \n",
    "time = Timestamp\n",
    "email = Email address\n",
    "gender = What is your gender?\n",
    "age = What is your age?\n",
    "edu = What is your highest level of education?\n",
    "household_size = What is the size of your household (enter the number of people living in your residence/home)?\n",
    "\n",
    "r1_item = What is the name of the item you are storing?\n",
    "r1_name_of_house = What is the name of the house you are storing this item in? (i.e. My apartment, \n",
    "    Family house, or it can be an informal name like Georgetown)\n",
    "r1_room = What room are you storing the item in? (i.e. bathroom, living room, bedroom 1, etc.)\n",
    "r1_quad_of_room = Which quadrant of the room is this item placed in? (see the image above for reference). \n",
    "    The arrow shows the direction you are facing when you enter the room.\n",
    "r1_loc_desc = If you would like to enter in a more personalized location description for this item, \n",
    "    enter that here (i.e. I left my book on the second shelf of my nightstand next to my bed):\n",
    "    \n",
    "r2_item = What is the name of the item you are storing?\n",
    "r2_name_of_house = What is the name of the house you are storing this item in? (i.e. My apartment, \n",
    "    Family house, or it can be an informal name like Georgetown)\n",
    "r2_room = What room are you storing the item in? (i.e. bathroom, living room, bedroom 1, etc.)\n",
    "r2_quad_of_room = Which quadrant of the room is this item placed in? (see the image above for reference). \n",
    "    The arrow shows the direction you are facing when you enter the room.\n",
    "r2_loc_desc = If you would like to enter in a more personalized location description for this item, \n",
    "    enter that here (i.e. I left my book on the second shelf of my nightstand next to my bed):\n",
    "\n",
    "r3_item = What is the name of the item you are storing?\n",
    "r3_name_of_house = What is the name of the house you are storing this item in? (i.e. My apartment, \n",
    "    Family house, or it can be an informal name like Georgetown)\n",
    "r3_room = What room are you storing the item in? (i.e. bathroom, living room, bedroom 1, etc.)\n",
    "r3_quad_of_room = Which quadrant of the room is this item placed in? (see the image above for reference). \n",
    "    The arrow shows the direction you are facing when you enter the room.\n",
    "r3_loc_desc = If you would like to enter in a more personalized location description for this item, \n",
    "    enter that here (i.e. I left my book on the second shelf of my nightstand next to my bed):\n",
    "    \n",
    "r4_item = What is the name of the item you are storing?\n",
    "r4_name_of_house = What is the name of the house you are storing this item in? (i.e. My apartment, \n",
    "    Family house, or it can be an informal name like Georgetown)\n",
    "r4_room = What room are you storing the item in? (i.e. bathroom, living room, bedroom 1, etc.)\n",
    "r4_quad_of_room = Which quadrant of the room is this item placed in? (see the image above for reference). \n",
    "    The arrow shows the direction you are facing when you enter the room.\n",
    "r4_loc_desc = If you would like to enter in a more personalized location description for this item, \n",
    "    enter that here (i.e. I left my book on the second shelf of my nightstand next to my bed):\n",
    "\"\"\""
   ]
  },
  {
   "cell_type": "code",
   "execution_count": 36,
   "metadata": {},
   "outputs": [],
   "source": [
    "data.columns = ['time', 'email', 'gender', 'age', 'edu', 'household_size', \n",
    "                            'r1_item', 'r1_name_of_house', 'r1_room', 'r1_quad_of_room', 'r1_loc_desc', \n",
    "                'add_item2', 'r2_item', 'r2_name_of_house', 'r2_room', 'r2_quad_of_room', 'r2_loc_desc', \n",
    "                'add_item3', 'r3_item', 'r3_name_of_house', 'r3_room', 'r3_quad_of_room', 'r3_loc_desc', \n",
    "                'add_item4', 'r4_item', 'r4_name_of_house', 'r4_room', 'r4_quad_of_room', 'r4_loc_desc']"
   ]
  },
  {
   "cell_type": "code",
   "execution_count": 37,
   "metadata": {},
   "outputs": [
    {
     "data": {
      "text/html": [
       "<div>\n",
       "<style scoped>\n",
       "    .dataframe tbody tr th:only-of-type {\n",
       "        vertical-align: middle;\n",
       "    }\n",
       "\n",
       "    .dataframe tbody tr th {\n",
       "        vertical-align: top;\n",
       "    }\n",
       "\n",
       "    .dataframe thead th {\n",
       "        text-align: right;\n",
       "    }\n",
       "</style>\n",
       "<table border=\"1\" class=\"dataframe\">\n",
       "  <thead>\n",
       "    <tr style=\"text-align: right;\">\n",
       "      <th></th>\n",
       "      <th>time</th>\n",
       "      <th>email</th>\n",
       "      <th>gender</th>\n",
       "      <th>age</th>\n",
       "      <th>edu</th>\n",
       "      <th>household_size</th>\n",
       "      <th>r1_item</th>\n",
       "      <th>r1_name_of_house</th>\n",
       "      <th>r1_room</th>\n",
       "      <th>r1_quad_of_room</th>\n",
       "      <th>...</th>\n",
       "      <th>r3_name_of_house</th>\n",
       "      <th>r3_room</th>\n",
       "      <th>r3_quad_of_room</th>\n",
       "      <th>r3_loc_desc</th>\n",
       "      <th>add_item4</th>\n",
       "      <th>r4_item</th>\n",
       "      <th>r4_name_of_house</th>\n",
       "      <th>r4_room</th>\n",
       "      <th>r4_quad_of_room</th>\n",
       "      <th>r4_loc_desc</th>\n",
       "    </tr>\n",
       "  </thead>\n",
       "  <tbody>\n",
       "    <tr>\n",
       "      <th>0</th>\n",
       "      <td>2019/11/17 4:26:47 PM PST</td>\n",
       "      <td>navjanar@gmail.com</td>\n",
       "      <td>Male</td>\n",
       "      <td>20-30</td>\n",
       "      <td>High school</td>\n",
       "      <td>2</td>\n",
       "      <td>water bottle</td>\n",
       "      <td>Boston</td>\n",
       "      <td>bedroom 1</td>\n",
       "      <td>3</td>\n",
       "      <td>...</td>\n",
       "      <td>NaN</td>\n",
       "      <td>NaN</td>\n",
       "      <td>NaN</td>\n",
       "      <td>NaN</td>\n",
       "      <td>NaN</td>\n",
       "      <td>NaN</td>\n",
       "      <td>NaN</td>\n",
       "      <td>NaN</td>\n",
       "      <td>NaN</td>\n",
       "      <td>NaN</td>\n",
       "    </tr>\n",
       "    <tr>\n",
       "      <th>1</th>\n",
       "      <td>2019/11/17 4:29:44 PM PST</td>\n",
       "      <td>NaN</td>\n",
       "      <td>Female</td>\n",
       "      <td>20-30</td>\n",
       "      <td>High school</td>\n",
       "      <td>2</td>\n",
       "      <td>earring</td>\n",
       "      <td>my apartment</td>\n",
       "      <td>bedroom</td>\n",
       "      <td>1</td>\n",
       "      <td>...</td>\n",
       "      <td>my apartment</td>\n",
       "      <td>bedroom</td>\n",
       "      <td>2.0</td>\n",
       "      <td>next to the desk</td>\n",
       "      <td>No</td>\n",
       "      <td>NaN</td>\n",
       "      <td>NaN</td>\n",
       "      <td>NaN</td>\n",
       "      <td>NaN</td>\n",
       "      <td>NaN</td>\n",
       "    </tr>\n",
       "    <tr>\n",
       "      <th>2</th>\n",
       "      <td>2019/11/17 4:30:57 PM PST</td>\n",
       "      <td>tmacelli@uw.edu</td>\n",
       "      <td>Male</td>\n",
       "      <td>20-30</td>\n",
       "      <td>2 or 4 Year College</td>\n",
       "      <td>12</td>\n",
       "      <td>pen</td>\n",
       "      <td>landis</td>\n",
       "      <td>bedroom</td>\n",
       "      <td>3</td>\n",
       "      <td>...</td>\n",
       "      <td>NaN</td>\n",
       "      <td>NaN</td>\n",
       "      <td>NaN</td>\n",
       "      <td>NaN</td>\n",
       "      <td>NaN</td>\n",
       "      <td>NaN</td>\n",
       "      <td>NaN</td>\n",
       "      <td>NaN</td>\n",
       "      <td>NaN</td>\n",
       "      <td>NaN</td>\n",
       "    </tr>\n",
       "    <tr>\n",
       "      <th>3</th>\n",
       "      <td>2019/11/18 10:24:28 AM PST</td>\n",
       "      <td>Kylemcnulty@gmail.com</td>\n",
       "      <td>Male</td>\n",
       "      <td>20-30</td>\n",
       "      <td>2 or 4 Year College</td>\n",
       "      <td>3</td>\n",
       "      <td>Remote</td>\n",
       "      <td>Home</td>\n",
       "      <td>Living room</td>\n",
       "      <td>3</td>\n",
       "      <td>...</td>\n",
       "      <td>NaN</td>\n",
       "      <td>NaN</td>\n",
       "      <td>NaN</td>\n",
       "      <td>NaN</td>\n",
       "      <td>NaN</td>\n",
       "      <td>NaN</td>\n",
       "      <td>NaN</td>\n",
       "      <td>NaN</td>\n",
       "      <td>NaN</td>\n",
       "      <td>NaN</td>\n",
       "    </tr>\n",
       "    <tr>\n",
       "      <th>4</th>\n",
       "      <td>2019/11/19 7:36:43 PM PST</td>\n",
       "      <td>kathylt@uw.edu</td>\n",
       "      <td>Female</td>\n",
       "      <td>0-20</td>\n",
       "      <td>2 or 4 Year College</td>\n",
       "      <td>2</td>\n",
       "      <td>Retainer</td>\n",
       "      <td>My apartment</td>\n",
       "      <td>bathroom</td>\n",
       "      <td>1</td>\n",
       "      <td>...</td>\n",
       "      <td>My apartment</td>\n",
       "      <td>Kitchen/Dining room</td>\n",
       "      <td>3.0</td>\n",
       "      <td>On the kitchen island</td>\n",
       "      <td>No</td>\n",
       "      <td>NaN</td>\n",
       "      <td>NaN</td>\n",
       "      <td>NaN</td>\n",
       "      <td>NaN</td>\n",
       "      <td>NaN</td>\n",
       "    </tr>\n",
       "  </tbody>\n",
       "</table>\n",
       "<p>5 rows × 29 columns</p>\n",
       "</div>"
      ],
      "text/plain": [
       "                         time                  email  gender    age  \\\n",
       "0   2019/11/17 4:26:47 PM PST     navjanar@gmail.com    Male  20-30   \n",
       "1   2019/11/17 4:29:44 PM PST                    NaN  Female  20-30   \n",
       "2   2019/11/17 4:30:57 PM PST        tmacelli@uw.edu    Male  20-30   \n",
       "3  2019/11/18 10:24:28 AM PST  Kylemcnulty@gmail.com    Male  20-30   \n",
       "4   2019/11/19 7:36:43 PM PST         kathylt@uw.edu  Female   0-20   \n",
       "\n",
       "                   edu  household_size       r1_item r1_name_of_house  \\\n",
       "0          High school               2  water bottle           Boston   \n",
       "1          High school               2       earring     my apartment   \n",
       "2  2 or 4 Year College              12           pen           landis   \n",
       "3  2 or 4 Year College               3        Remote             Home   \n",
       "4  2 or 4 Year College               2      Retainer     My apartment   \n",
       "\n",
       "       r1_room  r1_quad_of_room     ...     r3_name_of_house  \\\n",
       "0    bedroom 1                3     ...                  NaN   \n",
       "1      bedroom                1     ...         my apartment   \n",
       "2      bedroom                3     ...                  NaN   \n",
       "3  Living room                3     ...                  NaN   \n",
       "4     bathroom                1     ...         My apartment   \n",
       "\n",
       "               r3_room r3_quad_of_room            r3_loc_desc add_item4  \\\n",
       "0                  NaN             NaN                    NaN       NaN   \n",
       "1              bedroom             2.0       next to the desk        No   \n",
       "2                  NaN             NaN                    NaN       NaN   \n",
       "3                  NaN             NaN                    NaN       NaN   \n",
       "4  Kitchen/Dining room             3.0  On the kitchen island        No   \n",
       "\n",
       "   r4_item r4_name_of_house r4_room r4_quad_of_room r4_loc_desc  \n",
       "0      NaN              NaN     NaN             NaN         NaN  \n",
       "1      NaN              NaN     NaN             NaN         NaN  \n",
       "2      NaN              NaN     NaN             NaN         NaN  \n",
       "3      NaN              NaN     NaN             NaN         NaN  \n",
       "4      NaN              NaN     NaN             NaN         NaN  \n",
       "\n",
       "[5 rows x 29 columns]"
      ]
     },
     "execution_count": 37,
     "metadata": {},
     "output_type": "execute_result"
    }
   ],
   "source": [
    "data.head(5)"
   ]
  },
  {
   "cell_type": "code",
   "execution_count": null,
   "metadata": {},
   "outputs": [],
   "source": []
  },
  {
   "cell_type": "code",
   "execution_count": 38,
   "metadata": {},
   "outputs": [],
   "source": [
    "# separate data per item data frames\n",
    "df1 = data[['time', 'email', 'gender', 'age', 'edu', 'household_size', 'r1_item', 'r1_name_of_house', \n",
    "            'r1_room', 'r1_quad_of_room', 'r1_loc_desc']]"
   ]
  },
  {
   "cell_type": "code",
   "execution_count": 39,
   "metadata": {},
   "outputs": [],
   "source": [
    "df2 = data[['time', 'email', 'gender', 'age', 'edu', 'household_size', 'r2_item', 'r2_name_of_house', \n",
    "            'r2_room', 'r2_quad_of_room', 'r2_loc_desc']]"
   ]
  },
  {
   "cell_type": "code",
   "execution_count": 40,
   "metadata": {},
   "outputs": [],
   "source": [
    "df3 = data[['time', 'email', 'gender', 'age', 'edu', 'household_size', 'r3_item', 'r3_name_of_house', \n",
    "            'r3_room', 'r3_quad_of_room', 'r3_loc_desc']]"
   ]
  },
  {
   "cell_type": "code",
   "execution_count": 41,
   "metadata": {},
   "outputs": [],
   "source": [
    "df4 = data[['time', 'email', 'gender', 'age', 'edu', 'household_size', 'r4_item', 'r4_name_of_house', \n",
    "            'r4_room', 'r4_quad_of_room', 'r4_loc_desc']]"
   ]
  },
  {
   "cell_type": "code",
   "execution_count": null,
   "metadata": {},
   "outputs": [],
   "source": []
  },
  {
   "cell_type": "code",
   "execution_count": 42,
   "metadata": {},
   "outputs": [],
   "source": [
    "#df1.shape (6, 11)\n",
    "df1.columns  = ['time', 'email', 'gender', 'age', 'edu', 'household_size', 'item', \n",
    "                'name_of_house', 'room', 'quad_of_room', 'loc_desc']"
   ]
  },
  {
   "cell_type": "code",
   "execution_count": 43,
   "metadata": {},
   "outputs": [],
   "source": [
    "#df2.shape (6, 11)\n",
    "df2.columns  = ['time', 'email', 'gender', 'age', 'edu', 'household_size', 'item', \n",
    "                'name_of_house', 'room', 'quad_of_room', 'loc_desc']"
   ]
  },
  {
   "cell_type": "code",
   "execution_count": 44,
   "metadata": {},
   "outputs": [],
   "source": [
    "#df3.shape (6, 11)\n",
    "df3.columns  = ['time', 'email', 'gender', 'age', 'edu', 'household_size', 'item', \n",
    "                'name_of_house', 'room', 'quad_of_room', 'loc_desc']"
   ]
  },
  {
   "cell_type": "code",
   "execution_count": 45,
   "metadata": {},
   "outputs": [],
   "source": [
    "#df4.shape (6, 11)\n",
    "df4.columns  = ['time', 'email', 'gender', 'age', 'edu', 'household_size', 'item', \n",
    "                'name_of_house', 'room', 'quad_of_room', 'loc_desc']"
   ]
  },
  {
   "cell_type": "code",
   "execution_count": null,
   "metadata": {},
   "outputs": [],
   "source": []
  },
  {
   "cell_type": "code",
   "execution_count": 46,
   "metadata": {},
   "outputs": [],
   "source": [
    "df = df1.append(df2, ignore_index='true')\n",
    "df = df.append(df3, ignore_index='true')\n",
    "df = df.append(df4, ignore_index='true')"
   ]
  },
  {
   "cell_type": "code",
   "execution_count": 47,
   "metadata": {},
   "outputs": [
    {
     "data": {
      "text/plain": [
       "(24, 11)"
      ]
     },
     "execution_count": 47,
     "metadata": {},
     "output_type": "execute_result"
    }
   ],
   "source": [
    "df.shape"
   ]
  },
  {
   "cell_type": "code",
   "execution_count": null,
   "metadata": {},
   "outputs": [],
   "source": []
  },
  {
   "cell_type": "code",
   "execution_count": null,
   "metadata": {},
   "outputs": [],
   "source": []
  },
  {
   "cell_type": "code",
   "execution_count": null,
   "metadata": {},
   "outputs": [],
   "source": []
  },
  {
   "cell_type": "code",
   "execution_count": null,
   "metadata": {},
   "outputs": [],
   "source": []
  },
  {
   "cell_type": "code",
   "execution_count": null,
   "metadata": {},
   "outputs": [],
   "source": []
  },
  {
   "cell_type": "code",
   "execution_count": null,
   "metadata": {},
   "outputs": [],
   "source": []
  },
  {
   "cell_type": "code",
   "execution_count": null,
   "metadata": {},
   "outputs": [],
   "source": []
  },
  {
   "cell_type": "code",
   "execution_count": null,
   "metadata": {},
   "outputs": [],
   "source": []
  },
  {
   "cell_type": "code",
   "execution_count": 48,
   "metadata": {},
   "outputs": [],
   "source": [
    "# putting data in the database"
   ]
  },
  {
   "cell_type": "code",
   "execution_count": 5,
   "metadata": {},
   "outputs": [],
   "source": [
    "# Connect to our database, and return our database connection\n",
    "def connectToDB():\n",
    "    print(\"Connecting to database\")\n",
    "    mydb = pyodbc.connect(\n",
    "        'DRIVER={ODBC Driver 13 for SQL Server};SERVER=is-info430.ischool.uw.edu;DATABASE=Group3-Final;UID=INFO430;PWD=wubalubadubdub'\n",
    "    )\n",
    "    print(\"Done connecting\")\n",
    "    return mydb"
   ]
  },
  {
   "cell_type": "code",
   "execution_count": 6,
   "metadata": {},
   "outputs": [
    {
     "name": "stdout",
     "output_type": "stream",
     "text": [
      "Connecting to database\n",
      "Done connecting\n"
     ]
    }
   ],
   "source": [
    "cursor = connectToDB();"
   ]
  },
  {
   "cell_type": "code",
   "execution_count": 7,
   "metadata": {},
   "outputs": [],
   "source": [
    "# insert into floor\n",
    "insertFloor = \"\"\"\n",
    "SET NOCOUNT ON; \n",
    "EXECUTE [INFO430].[insert_Floor]\n",
    "@Name = ?, \n",
    "@HouseName = ?\n",
    "\"\"\"\n",
    "\n",
    "## missing floor name from the forms, generating random floor"
   ]
  },
  {
   "cell_type": "code",
   "execution_count": 52,
   "metadata": {},
   "outputs": [],
   "source": [
    "# insert into house\n",
    "insertHouse = \"\"\"\n",
    "SET NOCOUNT ON; \n",
    "EXECUTE [INFO430].[insert_House]\n",
    "@Name = ?, \n",
    "@Description = ?\n",
    "\"\"\"\n",
    "\n",
    "## missing house description from the forms"
   ]
  },
  {
   "cell_type": "code",
   "execution_count": 53,
   "metadata": {},
   "outputs": [],
   "source": [
    "# insert into house group\n",
    "insertHouseGroup = \"\"\"\n",
    "SET NOCOUNT ON; \n",
    "EXECUTE [INFO430].[insert_HouseGroup]\n",
    "@Name = ?, \n",
    "@FirstName = ?,\n",
    "@LastName = ?,\n",
    "@Email = ?, \n",
    "@HouseName = ?, \n",
    "@HouseDescription = ?\n",
    "\"\"\"\n",
    "\n",
    "## missing house description from the forms"
   ]
  },
  {
   "cell_type": "code",
   "execution_count": 54,
   "metadata": {},
   "outputs": [],
   "source": [
    "# insert item\n",
    "insertItem = \"\"\"\n",
    "SET NOCOUNT ON; \n",
    "EXECUTE [INFO430].[insert_Item]\n",
    "@ItemName = ?, \n",
    "@ImgSrc = ?,\n",
    "@LocationDescription = ?,\n",
    "@Condition = ?, \n",
    "@PurchaseDate = ?, \n",
    "@ExpirationDate = ?, \n",
    "@QuadrantName = ?, \n",
    "@ItemTypeName = ?\n",
    "\"\"\"\n",
    "\n",
    "## missing condition, purchase date, expiration date, and item type name from forms"
   ]
  },
  {
   "cell_type": "code",
   "execution_count": 55,
   "metadata": {},
   "outputs": [],
   "source": [
    "# insert item type\n",
    "insertItemType = \"\"\"\n",
    "SET NOCOUNT ON; \n",
    "EXECUTE [INFO430].[inset_ItemType]\n",
    "@Name = ?, \n",
    "@Description = ?\n",
    "\"\"\"\n",
    "\n",
    "## missing item description from forms"
   ]
  },
  {
   "cell_type": "code",
   "execution_count": 56,
   "metadata": {},
   "outputs": [],
   "source": [
    "# insert quadrant\n",
    "insertQuadrant = \"\"\"\n",
    "SET NOCOUNT ON; \n",
    "EXECUTE [INFO430].[insert_Quadrant]\n",
    "@Name = ?, \n",
    "@RoomName = ?\n",
    "\"\"\"\n",
    "\n"
   ]
  },
  {
   "cell_type": "code",
   "execution_count": 57,
   "metadata": {},
   "outputs": [],
   "source": [
    "# insert room\n",
    "insertRoom = \"\"\"\n",
    "SET NOCOUNT ON; \n",
    "EXECUTE [INFO430].[insert_Room]\n",
    "@Name = ?, \n",
    "@FloorName = ?, \n",
    "@RoomTypeName = ?\n",
    "\"\"\"\n",
    "\n",
    "## missing room descrptions from forms"
   ]
  },
  {
   "cell_type": "code",
   "execution_count": 58,
   "metadata": {},
   "outputs": [],
   "source": [
    "# insert room type\n",
    "insertRoomType = \"\"\"\n",
    "SET NOCOUNT ON;\n",
    "EXECUTE [INFO430].[insert_RoomType]\n",
    "@Name = ?, \n",
    "@Description = ?\n",
    "\"\"\"\n",
    "\n",
    "## missing room type descriptions"
   ]
  },
  {
   "cell_type": "code",
   "execution_count": null,
   "metadata": {},
   "outputs": [],
   "source": []
  },
  {
   "cell_type": "code",
   "execution_count": null,
   "metadata": {},
   "outputs": [],
   "source": []
  },
  {
   "cell_type": "code",
   "execution_count": 8,
   "metadata": {},
   "outputs": [],
   "source": [
    "test_params = [\"1\", \"test\"]"
   ]
  },
  {
   "cell_type": "code",
   "execution_count": 9,
   "metadata": {},
   "outputs": [
    {
     "ename": "ProgrammingError",
     "evalue": "('42000', \"[42000] [Microsoft][ODBC Driver 13 for SQL Server][SQL Server]Could not find stored procedure 'INFO430.insert_Floor'. (2812) (SQLExecDirectW)\")",
     "output_type": "error",
     "traceback": [
      "\u001b[0;31m---------------------------------------------------------------------------\u001b[0m",
      "\u001b[0;31mProgrammingError\u001b[0m                          Traceback (most recent call last)",
      "\u001b[0;32m<ipython-input-9-88f31876efd0>\u001b[0m in \u001b[0;36m<module>\u001b[0;34m\u001b[0m\n\u001b[0;32m----> 1\u001b[0;31m \u001b[0mcursor\u001b[0m\u001b[0;34m.\u001b[0m\u001b[0mexecute\u001b[0m\u001b[0;34m(\u001b[0m\u001b[0minsertFloor\u001b[0m\u001b[0;34m,\u001b[0m \u001b[0mtest_params\u001b[0m\u001b[0;34m)\u001b[0m\u001b[0;34m\u001b[0m\u001b[0;34m\u001b[0m\u001b[0m\n\u001b[0m",
      "\u001b[0;31mProgrammingError\u001b[0m: ('42000', \"[42000] [Microsoft][ODBC Driver 13 for SQL Server][SQL Server]Could not find stored procedure 'INFO430.insert_Floor'. (2812) (SQLExecDirectW)\")"
     ]
    }
   ],
   "source": [
    "cursor.execute(insertFloor, test_params)"
   ]
  },
  {
   "cell_type": "code",
   "execution_count": null,
   "metadata": {},
   "outputs": [],
   "source": []
  },
  {
   "cell_type": "code",
   "execution_count": 1,
   "metadata": {},
   "outputs": [
    {
     "ename": "NameError",
     "evalue": "name 'df' is not defined",
     "output_type": "error",
     "traceback": [
      "\u001b[0;31m---------------------------------------------------------------------------\u001b[0m",
      "\u001b[0;31mNameError\u001b[0m                                 Traceback (most recent call last)",
      "\u001b[0;32m<ipython-input-1-c0a029582f09>\u001b[0m in \u001b[0;36m<module>\u001b[0;34m\u001b[0m\n\u001b[0;32m----> 1\u001b[0;31m \u001b[0;32mfor\u001b[0m \u001b[0mindex\u001b[0m\u001b[0;34m,\u001b[0m \u001b[0mitem\u001b[0m \u001b[0;32min\u001b[0m \u001b[0mdf\u001b[0m\u001b[0;34m.\u001b[0m\u001b[0miterrows\u001b[0m\u001b[0;34m(\u001b[0m\u001b[0;34m)\u001b[0m\u001b[0;34m:\u001b[0m\u001b[0;34m\u001b[0m\u001b[0;34m\u001b[0m\u001b[0m\n\u001b[0m\u001b[1;32m      2\u001b[0m     \u001b[0;31m# get necessary data and put into the 5 (or so) tables\u001b[0m\u001b[0;34m\u001b[0m\u001b[0;34m\u001b[0m\u001b[0;34m\u001b[0m\u001b[0m\n\u001b[1;32m      3\u001b[0m \u001b[0;34m\u001b[0m\u001b[0m\n\u001b[1;32m      4\u001b[0m     \u001b[0mtime\u001b[0m \u001b[0;34m=\u001b[0m \u001b[0mdf\u001b[0m\u001b[0;34m[\u001b[0m\u001b[0;34m'item'\u001b[0m\u001b[0;34m]\u001b[0m\u001b[0;34m\u001b[0m\u001b[0;34m\u001b[0m\u001b[0m\n\u001b[1;32m      5\u001b[0m     \u001b[0memail\u001b[0m \u001b[0;34m=\u001b[0m \u001b[0mdf\u001b[0m\u001b[0;34m[\u001b[0m\u001b[0;34m'email'\u001b[0m\u001b[0;34m]\u001b[0m\u001b[0;34m\u001b[0m\u001b[0;34m\u001b[0m\u001b[0m\n",
      "\u001b[0;31mNameError\u001b[0m: name 'df' is not defined"
     ]
    }
   ],
   "source": [
    "for index, item in df.iterrows():\n",
    "    # get necessary data and put into the 5 (or so) tables\n",
    "    \n",
    "    time = df['item']\n",
    "    email = df['email']\n",
    "    gender = df['gender']\n",
    "    age = df['age']\n",
    "    edu = df['edu']\n",
    "    household_size = df['household_size']\n",
    "    item = df['item']\n",
    "    name_of_house = df['name_of_house']\n",
    "    room = df['room']\n",
    "    quad_of_room = df['quad_of_room']\n",
    "    loc_desc = df['loc_desc']\n",
    "    \n",
    "    # random floor number\n",
    "    floor = str(randint(0, 3))\n",
    "    \n",
    "    insert_floor_params = (floor, name_of_house)\n",
    "    cursor.execute(insertFloor, insert_floor_params)\n",
    "    \n",
    "# ['time', 'email', 'gender', 'age', 'edu', 'household_size', 'item', \n",
    "#            'name_of_house', 'room', 'quad_of_room', 'loc_desc']"
   ]
  },
  {
   "cell_type": "code",
   "execution_count": 1,
   "metadata": {},
   "outputs": [
    {
     "ename": "NameError",
     "evalue": "name 'cursor' is not defined",
     "output_type": "error",
     "traceback": [
      "\u001b[0;31m---------------------------------------------------------------------------\u001b[0m",
      "\u001b[0;31mNameError\u001b[0m                                 Traceback (most recent call last)",
      "\u001b[0;32m<ipython-input-1-710b61db1cc4>\u001b[0m in \u001b[0;36m<module>\u001b[0;34m\u001b[0m\n\u001b[0;32m----> 1\u001b[0;31m \u001b[0mcursor\u001b[0m\u001b[0;34m.\u001b[0m\u001b[0mcommit\u001b[0m\u001b[0;34m(\u001b[0m\u001b[0;34m)\u001b[0m\u001b[0;34m\u001b[0m\u001b[0;34m\u001b[0m\u001b[0m\n\u001b[0m\u001b[1;32m      2\u001b[0m \u001b[0mcursor\u001b[0m\u001b[0;34m.\u001b[0m\u001b[0mclose\u001b[0m\u001b[0;34m(\u001b[0m\u001b[0;34m)\u001b[0m\u001b[0;34m\u001b[0m\u001b[0;34m\u001b[0m\u001b[0m\n\u001b[1;32m      3\u001b[0m \u001b[0mmydb\u001b[0m\u001b[0;34m.\u001b[0m\u001b[0mclose\u001b[0m\u001b[0;34m(\u001b[0m\u001b[0;34m)\u001b[0m\u001b[0;34m\u001b[0m\u001b[0;34m\u001b[0m\u001b[0m\n",
      "\u001b[0;31mNameError\u001b[0m: name 'cursor' is not defined"
     ]
    }
   ],
   "source": [
    "cursor.commit()\n",
    "cursor.close()\n",
    "mydb.close()"
   ]
  },
  {
   "cell_type": "code",
   "execution_count": null,
   "metadata": {},
   "outputs": [],
   "source": []
  }
 ],
 "metadata": {
  "kernelspec": {
   "display_name": "Python 3",
   "language": "python",
   "name": "python3"
  },
  "language_info": {
   "codemirror_mode": {
    "name": "ipython",
    "version": 3
   },
   "file_extension": ".py",
   "mimetype": "text/x-python",
   "name": "python",
   "nbconvert_exporter": "python",
   "pygments_lexer": "ipython3",
   "version": "3.7.1"
  }
 },
 "nbformat": 4,
 "nbformat_minor": 2
}
